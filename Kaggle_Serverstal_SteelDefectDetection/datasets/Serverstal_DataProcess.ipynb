{
  "nbformat": 4,
  "nbformat_minor": 0,
  "metadata": {
    "colab": {
      "name": "Serverstal_DataProcess.ipynb",
      "provenance": [],
      "collapsed_sections": []
    },
    "kernelspec": {
      "name": "python3",
      "display_name": "Python 3"
    },
    "language_info": {
      "name": "python"
    }
  },
  "cells": [
    {
      "cell_type": "markdown",
      "metadata": {
        "id": "uuVBcMACzkBo"
      },
      "source": [
        "# Serverstal Dataset Study"
      ]
    },
    {
      "cell_type": "code",
      "metadata": {
        "id": "pkK0N6a1w-M3"
      },
      "source": [
        "import pandas as pd\n",
        "import os\n",
        "import seaborn as sns\n",
        "import matplotlib.pyplot as plt\n",
        "%matplotlib inline"
      ],
      "execution_count": null,
      "outputs": []
    },
    {
      "cell_type": "code",
      "metadata": {
        "id": "xJ6SNWOlh2J1"
      },
      "source": [
        "ROOT = \"datasets/severstal-steel-defect-detection/\""
      ],
      "execution_count": null,
      "outputs": []
    },
    {
      "cell_type": "code",
      "metadata": {
        "colab": {
          "base_uri": "https://localhost:8080/",
          "height": 201
        },
        "id": "VybkQ0OD0NZn",
        "outputId": "f31ce793-7136-47ca-de40-a55a67a469eb"
      },
      "source": [
        "df = pd.read_csv( ROOT+'/train.csv',\n",
        "                 delimiter = ',')\n",
        "df.head()"
      ],
      "execution_count": null,
      "outputs": [
        {
          "output_type": "execute_result",
          "data": {
            "text/plain": [
              "         ImageId  ClassId                                      EncodedPixels\n",
              "0  0002cc93b.jpg        1  29102 12 29346 24 29602 24 29858 24 30114 24 3...\n",
              "1  0007a71bf.jpg        3  18661 28 18863 82 19091 110 19347 110 19603 11...\n",
              "2  000a4bcdd.jpg        1  37607 3 37858 8 38108 14 38359 20 38610 25 388...\n",
              "3  000f6bf48.jpg        4  131973 1 132228 4 132483 6 132738 8 132993 11 ...\n",
              "4  0014fce06.jpg        3  229501 11 229741 33 229981 55 230221 77 230468..."
            ],
            "text/html": [
              "<div>\n",
              "<style scoped>\n",
              "    .dataframe tbody tr th:only-of-type {\n",
              "        vertical-align: middle;\n",
              "    }\n",
              "\n",
              "    .dataframe tbody tr th {\n",
              "        vertical-align: top;\n",
              "    }\n",
              "\n",
              "    .dataframe thead th {\n",
              "        text-align: right;\n",
              "    }\n",
              "</style>\n",
              "<table border=\"1\" class=\"dataframe\">\n",
              "  <thead>\n",
              "    <tr style=\"text-align: right;\">\n",
              "      <th></th>\n",
              "      <th>ImageId</th>\n",
              "      <th>ClassId</th>\n",
              "      <th>EncodedPixels</th>\n",
              "    </tr>\n",
              "  </thead>\n",
              "  <tbody>\n",
              "    <tr>\n",
              "      <th>0</th>\n",
              "      <td>0002cc93b.jpg</td>\n",
              "      <td>1</td>\n",
              "      <td>29102 12 29346 24 29602 24 29858 24 30114 24 3...</td>\n",
              "    </tr>\n",
              "    <tr>\n",
              "      <th>1</th>\n",
              "      <td>0007a71bf.jpg</td>\n",
              "      <td>3</td>\n",
              "      <td>18661 28 18863 82 19091 110 19347 110 19603 11...</td>\n",
              "    </tr>\n",
              "    <tr>\n",
              "      <th>2</th>\n",
              "      <td>000a4bcdd.jpg</td>\n",
              "      <td>1</td>\n",
              "      <td>37607 3 37858 8 38108 14 38359 20 38610 25 388...</td>\n",
              "    </tr>\n",
              "    <tr>\n",
              "      <th>3</th>\n",
              "      <td>000f6bf48.jpg</td>\n",
              "      <td>4</td>\n",
              "      <td>131973 1 132228 4 132483 6 132738 8 132993 11 ...</td>\n",
              "    </tr>\n",
              "    <tr>\n",
              "      <th>4</th>\n",
              "      <td>0014fce06.jpg</td>\n",
              "      <td>3</td>\n",
              "      <td>229501 11 229741 33 229981 55 230221 77 230468...</td>\n",
              "    </tr>\n",
              "  </tbody>\n",
              "</table>\n",
              "</div>"
            ]
          },
          "metadata": {
            "tags": []
          },
          "execution_count": 2
        }
      ]
    },
    {
      "cell_type": "code",
      "metadata": {
        "colab": {
          "base_uri": "https://localhost:8080/"
        },
        "id": "LiHANw3600Bh",
        "outputId": "188dea6e-5ed9-4caf-b06c-b70fee526290"
      },
      "source": [
        "df['ClassId'].value_counts()"
      ],
      "execution_count": null,
      "outputs": [
        {
          "output_type": "execute_result",
          "data": {
            "text/plain": [
              "3    5150\n",
              "1     897\n",
              "4     801\n",
              "2     247\n",
              "Name: ClassId, dtype: int64"
            ]
          },
          "metadata": {
            "tags": []
          },
          "execution_count": 3
        }
      ]
    },
    {
      "cell_type": "code",
      "metadata": {
        "colab": {
          "base_uri": "https://localhost:8080/"
        },
        "id": "NRsl_ORz1ZoI",
        "outputId": "d4b57711-5de2-4267-8215-cbd4a8fbff43"
      },
      "source": [
        "df['ImageId'].value_counts()[:10]"
      ],
      "execution_count": null,
      "outputs": [
        {
          "output_type": "execute_result",
          "data": {
            "text/plain": [
              "ef24da2ba.jpg    3\n",
              "db4867ee8.jpg    3\n",
              "b68a9259a.jpg    2\n",
              "db3ce9c95.jpg    2\n",
              "e30a322d7.jpg    2\n",
              "9cd1d622e.jpg    2\n",
              "c44784905.jpg    2\n",
              "20964a4f0.jpg    2\n",
              "b5b99c878.jpg    2\n",
              "bab5271b6.jpg    2\n",
              "Name: ImageId, dtype: int64"
            ]
          },
          "metadata": {
            "tags": []
          },
          "execution_count": 4
        }
      ]
    },
    {
      "cell_type": "code",
      "metadata": {
        "colab": {
          "base_uri": "https://localhost:8080/"
        },
        "id": "8LK_Ial23HTp",
        "outputId": "29b53fc3-b22b-4e40-cb05-3308241b7df0"
      },
      "source": [
        "fs = os.listdir( ROOT+\"train_images/\")\n",
        "len(fs)"
      ],
      "execution_count": null,
      "outputs": [
        {
          "output_type": "execute_result",
          "data": {
            "text/plain": [
              "12568"
            ]
          },
          "metadata": {
            "tags": []
          },
          "execution_count": 5
        }
      ]
    },
    {
      "cell_type": "markdown",
      "metadata": {
        "id": "9nuChoGKoHEQ"
      },
      "source": [
        "## Train splits"
      ]
    },
    {
      "cell_type": "code",
      "metadata": {
        "id": "PyzMw5FyqmoO"
      },
      "source": [
        "import random\n",
        "import csv"
      ],
      "execution_count": null,
      "outputs": []
    },
    {
      "cell_type": "code",
      "metadata": {
        "id": "BJHcadmCqZ5j"
      },
      "source": [
        "random.seed(10)\n",
        "\n",
        "#stratafied split\n",
        "c1 = df[df['ClassId'] ==1]\n",
        "c1_list = random.sample(list(c1['ImageId']), 190)\n",
        "\n",
        "c2 = df[df['ClassId'] ==2]\n",
        "c2_list = random.sample(list(c2['ImageId']), 45)\n",
        "\n",
        "c3 = df[df['ClassId'] ==3]\n",
        "c3_list = random.sample(list(c3['ImageId']), 1000)\n",
        "\n",
        "c4 = df[df['ClassId'] ==4]\n",
        "c4_list = random.sample(list(c4['ImageId']), 170)\n",
        "\n",
        "c0 = set(fs) - set(df['ImageId'])\n",
        "c0_list = random.sample(list(c0), 1200)"
      ],
      "execution_count": null,
      "outputs": []
    },
    {
      "cell_type": "markdown",
      "metadata": {
        "id": "A95jw6uRvHWk"
      },
      "source": [
        "###Classifier dataset\n",
        "\n",
        "Each image will have defect id in range of 0-4 associated with it. If it's 0 then the image has no defect. \n",
        "\n",
        "Also if more than one defect present in an image, then it will be represented as consecutive digits say if an image has class two, four and one defects simulataneously then it will be represented as 124"
      ]
    },
    {
      "cell_type": "code",
      "metadata": {
        "id": "u2zbmeUSzgvd"
      },
      "source": [
        "class_data = []\n",
        "exempt = []\n",
        "for k in fs:\n",
        "    if k in list(df['ImageId']):\n",
        "        a =  df[df['ImageId'] == k]['ClassId']\n",
        "        try:\n",
        "            a = int(a)\n",
        "        except:\n",
        "            a = sum(d * 10**i for i, d in enumerate(sorted(list(a),reverse=True)))\n",
        "        class_data.append([ k, a])\n",
        "    else:\n",
        "        class_data.append([ k, 0])"
      ],
      "execution_count": null,
      "outputs": []
    },
    {
      "cell_type": "code",
      "metadata": {
        "id": "ZfsCoPAP32vb"
      },
      "source": [
        "train_split = []\n",
        "valid_split = []\n",
        "\n",
        "for c in class_data:\n",
        "    if c[0] in c0_list+c1_list+c2_list+c3_list+c4_list:\n",
        "        valid_split.append(c)\n",
        "    else:\n",
        "        train_split.append(c)"
      ],
      "execution_count": null,
      "outputs": []
    },
    {
      "cell_type": "code",
      "metadata": {
        "id": "nG-OapqxDN4L"
      },
      "source": [
        "with open(ROOT+'/steel_train.csv', 'w') as f:\n",
        "    write = csv.writer(f)      \n",
        "    write.writerow(['ImageId', 'Class'])\n",
        "    write.writerows(train_split)\n",
        "\n",
        "with open(ROOT+'/steel_valid.csv', 'w') as f:\n",
        "    write = csv.writer(f)      \n",
        "    write.writerow(['ImageId', 'Class'])\n",
        "    write.writerows(valid_split)"
      ],
      "execution_count": null,
      "outputs": []
    },
    {
      "cell_type": "markdown",
      "metadata": {
        "id": "drd-L5caM2pO"
      },
      "source": [
        "### Segmentation GT generation\n",
        "\n",
        "Conversion occurs at dataloader sampling to eliminate storage overhead.\n",
        "\n",
        "Code shown here for sample creation\n"
      ]
    },
    {
      "cell_type": "code",
      "metadata": {
        "id": "KilQkwoRauxZ"
      },
      "source": [
        "import numpy as np"
      ],
      "execution_count": null,
      "outputs": []
    },
    {
      "cell_type": "code",
      "metadata": {
        "id": "anNwSnR3dxCe"
      },
      "source": [
        "def rle_to_matrix(arr, idx, rle):\n",
        "    rle = [ int(r) for r in rle.split() ]\n",
        "    for i in range(0, len(rle), 2):\n",
        "        lc = rle[i]; ln = rle[i+1]\n",
        "        arr[idx-1, lc:lc+ln] = 1\n",
        "    return arr"
      ],
      "execution_count": null,
      "outputs": []
    },
    {
      "cell_type": "code",
      "metadata": {
        "id": "kejKv8opMpL6"
      },
      "source": [
        "\n",
        "path = ROOT+'/SampleGT/'\n",
        "if not os.path.exists(path): os.makedirs(path)\n",
        "\n",
        "for i in df['ImageId'].unique():\n",
        "    rs = df[df['ImageId'] == i]\n",
        "    new = np.zeros((4,256*1600))\n",
        "    for j, r in rs.iterrows():\n",
        "        new = rle_to_matrix(new, r['ClassId'], r['EncodedPixels'])\n",
        "    ## change RLE to image structure\n",
        "    new = new.reshape(4, 1600, 256) \n",
        "    new = new.transpose(0,2,1) \n",
        "    np.savetxt(path+ i[:-4] +'.npy', new, fmt='%d')\n",
        "    ## stop after single sample\n",
        "    break"
      ],
      "execution_count": null,
      "outputs": []
    }
  ]
}