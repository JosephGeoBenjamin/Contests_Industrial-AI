{
 "cells": [
  {
   "cell_type": "markdown",
   "metadata": {},
   "source": [
    "Used for obtaining Prior anchor boxes based on the trainng dataset.\n",
    "Json format produced by preprocess_labels.py file  \n",
    "\n",
    "Reference NB:\n",
    "https://github.com/FairyOnIce/ObjectDetectionYolo"
   ]
  },
  {
   "cell_type": "code",
   "execution_count": null,
   "metadata": {},
   "outputs": [],
   "source": [
    "import json\n",
    "path = \"/home/jupyter/VOCdevkit/VOC2012/pascal_voc_2dbbox_train.json\"\n",
    "train_data = json.load( open(path))"
   ]
  },
  {
   "cell_type": "code",
   "execution_count": null,
   "metadata": {},
   "outputs": [],
   "source": [
    "import matplotlib.pyplot as plt\n",
    "import seaborn as sns\n",
    "import numpy as np\n",
    "import pandas as pd\n",
    "\n",
    "%matplotlib inline"
   ]
  },
  {
   "cell_type": "code",
   "execution_count": null,
   "metadata": {},
   "outputs": [],
   "source": [
    "class_freq = {}\n",
    "\n",
    "for i in train_data:\n",
    "    for j in i[\"labels\"]:\n",
    "        if j[\"category\"] in class_freq.keys():\n",
    "            class_freq[j[\"category\"]] += 1\n",
    "        else:\n",
    "            class_freq[j[\"category\"]] = 0\n",
    "\n",
    "df = pd.DataFrame()\n",
    "df[\"category\"] = class_freq.keys()\n",
    "df[\"count\"] = class_freq.values()\n",
    "df = df.sort_values(by = \"count\")\n",
    "\n",
    "sns.barplot(y = \"category\", x = \"count\", data = df )\n",
    "plt.show()"
   ]
  },
  {
   "cell_type": "code",
   "execution_count": null,
   "metadata": {},
   "outputs": [],
   "source": [
    "h = []\n",
    "w = []\n",
    "for i in train_data:\n",
    "    imgh = i['size']['height']\n",
    "    imgw = i['size']['width']\n",
    "    for j in i[\"labels\"]:\n",
    "        h_ = (j[\"box2d\"][\"y2\"] - j[\"box2d\"][\"y1\"])      \n",
    "        w_ = (j[\"box2d\"][\"x2\"] - j[\"box2d\"][\"x1\"])\n",
    "        h.append(h_/imgh)\n",
    "        w.append(w_/imgw)\n",
    "\n",
    "hw_df = pd.DataFrame()\n",
    "hw_df[\"h\"] = h\n",
    "hw_df[\"w\"] = w\n",
    "\n",
    "sns.scatterplot(y = \"w\", x = \"h\", data = hw_df )\n",
    "plt.show()"
   ]
  },
  {
   "cell_type": "code",
   "execution_count": null,
   "metadata": {},
   "outputs": [],
   "source": [
    "def iou(box, clusters):\n",
    "    ''' :param box:      np.array of shape (2,) containing w and h\n",
    "        :param clusters: np.array of shape (N cluster, 2) \n",
    "    '''\n",
    "    x = np.minimum(clusters[:, 0], box[0]) \n",
    "    y = np.minimum(clusters[:, 1], box[1])\n",
    "\n",
    "    intersection = x * y\n",
    "    box_area = box[0] * box[1]\n",
    "    cluster_area = clusters[:, 0] * clusters[:, 1]\n",
    "\n",
    "    iou_ = intersection / (box_area + cluster_area - intersection)\n",
    "\n",
    "    return iou_"
   ]
  },
  {
   "cell_type": "code",
   "execution_count": null,
   "metadata": {},
   "outputs": [],
   "source": [
    "def kmeans(boxes, k, dist=np.median,seed=1):\n",
    "    \"\"\"\n",
    "    Calculates k-means clustering with the Intersection over Union (IoU) metric.\n",
    "    :param boxes: numpy array of shape (r, 2), where r is the number of rows\n",
    "    :param k: number of clusters\n",
    "    :param dist: distance function\n",
    "    :return: numpy array of shape (k, 2)\n",
    "    \"\"\"\n",
    "    rows = boxes.shape[0]\n",
    "\n",
    "    distances     = np.empty((rows, k)) ## N row x N cluster\n",
    "    last_clusters = np.zeros((rows,))\n",
    "\n",
    "    np.random.seed(seed)\n",
    "\n",
    "    # initialize the cluster centers to be k items\n",
    "    clusters = boxes[np.random.choice(rows, k, replace=False)]\n",
    "\n",
    "    while True:\n",
    "        # Step 1: allocate each item to the closest cluster centers\n",
    "        for icluster in range(k): # I made change to lars76's code here to make the code faster\n",
    "            distances[:,icluster] = 1 - iou(clusters[icluster], boxes)\n",
    "\n",
    "        nearest_clusters = np.argmin(distances, axis=1)\n",
    "\n",
    "        if (last_clusters == nearest_clusters).all():\n",
    "            break\n",
    "            \n",
    "        # Step 2: calculate the cluster centers as mean (or median) of all the cases in the clusters.\n",
    "        for cluster in range(k):\n",
    "            clusters[cluster] = dist(boxes[nearest_clusters == cluster], axis=0)\n",
    "\n",
    "        last_clusters = nearest_clusters\n",
    "\n",
    "    return clusters,nearest_clusters,distances\n",
    "\n"
   ]
  },
  {
   "cell_type": "code",
   "execution_count": null,
   "metadata": {},
   "outputs": [],
   "source": [
    "kmax = 11\n",
    "dist = np.mean\n",
    "results = {}\n",
    "wh = np.asarray([ [wi,hi] for wi, hi in zip(w, h) ])\n",
    "for k in range(2,kmax):\n",
    "    clusters, nearest_clusters, distances = kmeans(wh,k,seed=2,dist=dist)\n",
    "    WithinClusterMeanDist = np.mean(distances[np.arange(distances.shape[0]),nearest_clusters])\n",
    "    result = {\"clusters\":             clusters,\n",
    "              \"nearest_clusters\":     nearest_clusters,\n",
    "              \"distances\":            distances,\n",
    "              \"WithinClusterMeanDist\": WithinClusterMeanDist}\n",
    "    print(\"{:2.0f} clusters: mean IoU = {:5.4f}\".format(k,1-result[\"WithinClusterMeanDist\"]))\n",
    "    results[k] = result"
   ]
  },
  {
   "cell_type": "markdown",
   "metadata": {},
   "source": [
    "### Visualization of k-means results "
   ]
  },
  {
   "cell_type": "code",
   "execution_count": null,
   "metadata": {},
   "outputs": [],
   "source": [
    "def plot_cluster_result(plt,clusters,nearest_clusters,WithinClusterSumDist,wh):\n",
    "    for icluster in np.unique(nearest_clusters):\n",
    "        pick = nearest_clusters==icluster\n",
    "        c = current_palette[icluster]\n",
    "        plt.rc('font', size=8) \n",
    "        plt.plot(wh[pick,0],wh[pick,1],\"p\",\n",
    "                 color=c,\n",
    "                 alpha=0.5,label=\"cluster = {}, N = {:6.0f}\".format(icluster,np.sum(pick)))\n",
    "        plt.text(clusters[icluster,0],\n",
    "                 clusters[icluster,1],\n",
    "                 \"c{}\".format(icluster),\n",
    "                 fontsize=20,color=\"red\")\n",
    "        plt.title(\"Clusters\")\n",
    "        plt.xlabel(\"width\")\n",
    "        plt.ylabel(\"height\")\n",
    "    plt.legend(title=\"Mean IoU = {:5.4f}\".format(WithinClusterSumDist))\n",
    "    \n",
    "import seaborn as sns\n",
    "current_palette = list(sns.xkcd_rgb.values())\n",
    "\n",
    "figsize = (15,35)\n",
    "count =1 \n",
    "fig = plt.figure(figsize=figsize)\n",
    "for k in range(2,kmax):\n",
    "    result               = results[k]\n",
    "    clusters             = result[\"clusters\"]\n",
    "    nearest_clusters     = result[\"nearest_clusters\"]\n",
    "    WithinClusterSumDist = result[\"WithinClusterMeanDist\"]\n",
    "    \n",
    "    ax = fig.add_subplot(kmax/2,2,count)\n",
    "    plot_cluster_result(plt,clusters,nearest_clusters,1 - WithinClusterSumDist,wh)\n",
    "    count += 1\n",
    "plt.show()"
   ]
  },
  {
   "cell_type": "code",
   "execution_count": null,
   "metadata": {},
   "outputs": [],
   "source": [
    "plt.figure(figsize=(6,6))\n",
    "plt.plot(np.arange(2,kmax),\n",
    "         [1 - results[k][\"WithinClusterMeanDist\"] for k in range(2,kmax)],\"o-\")\n",
    "plt.title(\"within cluster mean of {}\".format(dist))\n",
    "plt.ylabel(\"mean IOU\")\n",
    "plt.xlabel(\"N clusters (= N anchor boxes)\")\n",
    "plt.show()\n"
   ]
  },
  {
   "cell_type": "code",
   "execution_count": null,
   "metadata": {},
   "outputs": [],
   "source": [
    "Nanchor_box = 5\n",
    "# Width, Height\n",
    "anchors = results[Nanchor_box][\"clusters\"]\n",
    "anchors"
   ]
  },
  {
   "cell_type": "code",
   "execution_count": null,
   "metadata": {},
   "outputs": [],
   "source": [
    "import cv2 \n",
    "## image shape H, W, C\n",
    "\n",
    "img_h, img_w = 100,100\n",
    "\n",
    "image = np.zeros([img_h,img_w,3], dtype = np.uint8) \n",
    "window_name = 'Image'\n",
    "color = (255, 0, 0) \n",
    "thickness = 1\n",
    "\n",
    "for an in anchors:\n",
    "    box_w, box_h = int(an[0]*img_w) , int(an[1]*img_h)\n",
    "    start_point = (int(img_h/2 - box_h/2) , int(img_w/2 - box_w/2))   \n",
    "    end_point = (int(img_h/2 + box_h/2) , int(img_w/2 + box_w/2))  \n",
    "    image = cv2.rectangle(image, start_point, end_point, color, thickness) \n",
    "\n",
    "plt.imshow(image)\n",
    "plt.show()\n"
   ]
  },
  {
   "cell_type": "code",
   "execution_count": null,
   "metadata": {},
   "outputs": [],
   "source": []
  }
 ],
 "metadata": {
  "environment": {
   "name": "pytorch-gpu.1-6.m59",
   "type": "gcloud",
   "uri": "gcr.io/deeplearning-platform-release/pytorch-gpu.1-6:m59"
  },
  "kernelspec": {
   "display_name": "Python 3",
   "language": "python",
   "name": "python3"
  },
  "language_info": {
   "codemirror_mode": {
    "name": "ipython",
    "version": 3
   },
   "file_extension": ".py",
   "mimetype": "text/x-python",
   "name": "python",
   "nbconvert_exporter": "python",
   "pygments_lexer": "ipython3",
   "version": "3.7.8"
  }
 },
 "nbformat": 4,
 "nbformat_minor": 4
}
